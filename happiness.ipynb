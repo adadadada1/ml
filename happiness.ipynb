{
 "cells": [
  {
   "cell_type": "code",
   "execution_count": 34,
   "outputs": [],
   "source": [
    "import pandas as pd\n",
    "import numpy as np\n",
    "from sklearn.metrics import mean_squared_error\n",
    "import lightgbm as lgb\n",
    "import xgboost as xgb\n",
    "from sklearn.model_selection import train_test_split\n",
    "from sklearn.preprocessing import OneHotEncoder\n",
    "from sklearn.model_selection import KFold, RepeatedKFold\n",
    "from scipy import sparse\n",
    "#显示所有列\n",
    "pd.set_option('display.max_columns', None)\n",
    "#显示所有行\n",
    "pd.set_option('display.max_rows', None)\n",
    "from datetime import datetime"
   ],
   "metadata": {
    "collapsed": false
   }
  },
  {
   "cell_type": "code",
   "execution_count": 35,
   "outputs": [],
   "source": [
    "#导入数据\n",
    "Train_data = pd.read_csv('happiness_train_abbr.csv')\n",
    "Test_data = pd.read_csv('happiness_test_abbr.csv')"
   ],
   "metadata": {
    "collapsed": false
   }
  },
  {
   "cell_type": "code",
   "execution_count": 36,
   "outputs": [],
   "source": [
    "#查看数据分布\n",
    "Train_data.shape"
   ],
   "metadata": {
    "collapsed": false
   }
  },
  {
   "cell_type": "code",
   "execution_count": null,
   "outputs": [],
   "source": [
    "Test_data.shape"
   ],
   "metadata": {
    "collapsed": false
   }
  },
  {
   "cell_type": "code",
   "execution_count": null,
   "outputs": [],
   "source": [
    "Train_data.head()"
   ],
   "metadata": {
    "collapsed": false
   }
  },
  {
   "cell_type": "code",
   "execution_count": null,
   "outputs": [],
   "source": [
    "Test_data.head()"
   ],
   "metadata": {
    "collapsed": false
   }
  },
  {
   "cell_type": "code",
   "execution_count": null,
   "outputs": [],
   "source": [
    "Test_data.info()"
   ],
   "metadata": {
    "collapsed": false
   }
  },
  {
   "cell_type": "code",
   "execution_count": null,
   "outputs": [],
   "source": [
    "Train_data.isnull().sum()"
   ],
   "metadata": {
    "collapsed": false
   }
  },
  {
   "cell_type": "code",
   "execution_count": null,
   "outputs": [],
   "source": [
    "Test_data.isnull().sum()"
   ],
   "metadata": {
    "collapsed": false
   }
  },
  {
   "cell_type": "code",
   "execution_count": null,
   "outputs": [],
   "source": [
    "Test_data.describe()"
   ],
   "metadata": {
    "collapsed": false
   }
  },
  {
   "cell_type": "code",
   "execution_count": null,
   "outputs": [],
   "source": [
    "# -8为异常值，需进行替换，数量较少，选择众数替换\n",
    "Train_data['happiness'] = Train_data['happiness'].map(lambda x:4 if x == -8 else x)\n",
    "Train_data['happiness'].value_counts()"
   ],
   "metadata": {
    "collapsed": false
   }
  },
  {
   "cell_type": "code",
   "execution_count": null,
   "outputs": [],
   "source": [
    "'''使用聚合和分组运算将性别和happiness组合，算出男性和女性之间的性别计数'''\n",
    "import matplotlib.pyplot as plt\n",
    "import seaborn as sns\n",
    "Train_data.groupby(['gender','happiness'])['happiness'].count()"
   ],
   "metadata": {
    "collapsed": false
   }
  },
  {
   "cell_type": "code",
   "execution_count": null,
   "outputs": [],
   "source": [
    "'''hue 参数加入另一个嵌套的分类变量，首先使用第一个参数gender进行分组，然后再分组中再使用happiness进行count每一个元素所含的个数'''\n",
    "f,ax=plt.subplots(figsize=(10,8))\n",
    "sns.countplot('gender',hue='happiness',data=Train_data)\n",
    "ax.set_title('Sex:happiness')"
   ],
   "metadata": {
    "collapsed": false
   }
  },
  {
   "cell_type": "code",
   "execution_count": null,
   "outputs": [],
   "source": [
    "'''使用.dt.year将survey_time转换成year的时间'''\n",
    "Train_data['survey_time'] = pd.to_datetime(Train_data['survey_time'],format='%Y-%m-%d %H:%M:%S')\n",
    "Test_data['survey_time'] = pd.to_datetime(Test_data['survey_time'],format='%Y-%m-%d %H:%M:%S')\n",
    "Train_data['survey_time'] = Train_data['survey_time'].dt.year\n",
    "Test_data['survey_time'] = Test_data['survey_time'].dt.year"
   ],
   "metadata": {
    "collapsed": false
   }
  },
  {
   "cell_type": "code",
   "execution_count": null,
   "outputs": [],
   "source": [
    "'''通过birth和survey时间计算出接受采访者的年龄'''\n",
    "Train_data['Age'] = Train_data['survey_time']-Train_data['birth']\n",
    "Test_data['Age'] = Test_data['survey_time']-Test_data['birth']"
   ],
   "metadata": {
    "collapsed": false
   }
  },
  {
   "cell_type": "code",
   "execution_count": null,
   "outputs": [],
   "source": [
    "'''通过现在dataframe的形状可以看出现在多了一列，为添加的Age项'''\n",
    "Train_data.shape"
   ],
   "metadata": {
    "collapsed": false
   }
  },
  {
   "cell_type": "code",
   "execution_count": null,
   "outputs": [],
   "source": [
    "figure, ax = plt.subplots(1,1)\n",
    "Train_data['Age'].plot.hist(ax = ax,color='blue')\n",
    "plt.show()"
   ],
   "metadata": {
    "collapsed": false
   }
  },
  {
   "cell_type": "code",
   "execution_count": null,
   "outputs": [],
   "source": [
    "combine=[Train_data,Test_data] #连接这两个表，做分组"
   ],
   "metadata": {
    "collapsed": false
   }
  },
  {
   "cell_type": "code",
   "execution_count": null,
   "outputs": [],
   "source": [
    "'''\n",
    "对dataframe中的数据进行简单的编码\n",
    "小于16岁的为0；16-32的为1；32-48的为2；48-64的为3；64-80的为4；大于80的为5\n",
    "'''\n",
    "for dataset in combine:\n",
    "    dataset.loc[dataset['Age']<=16,'Age']=0\n",
    "    dataset.loc[(dataset['Age'] > 16) & (dataset['Age'] <= 32), 'Age'] = 1\n",
    "    dataset.loc[(dataset['Age'] > 32) & (dataset['Age'] <= 48), 'Age'] = 2\n",
    "    dataset.loc[(dataset['Age'] > 48) & (dataset['Age'] <= 64), 'Age'] = 3\n",
    "    dataset.loc[(dataset['Age'] > 64) & (dataset['Age'] <= 80), 'Age'] = 4\n",
    "    dataset.loc[ dataset['Age'] > 80, 'Age'] = 5"
   ],
   "metadata": {
    "collapsed": false
   }
  },
  {
   "cell_type": "code",
   "execution_count": null,
   "outputs": [],
   "source": [
    "print(Train_data['Age'].head())"
   ],
   "metadata": {
    "collapsed": false
   }
  },
  {
   "cell_type": "code",
   "execution_count": null,
   "outputs": [],
   "source": [
    "'''将数据按照年龄进行分类，再对'''\n",
    "sns.countplot('Age',hue='happiness',data=Train_data)"
   ],
   "metadata": {
    "collapsed": false
   }
  },
  {
   "cell_type": "code",
   "execution_count": null,
   "outputs": [],
   "source": [
    "Train_data.shape"
   ],
   "metadata": {
    "collapsed": false
   }
  },
  {
   "cell_type": "code",
   "execution_count": null,
   "outputs": [],
   "source": [
    "Train_data.hist(figsize=(6*3,23*3), layout=(23,6), bins=12)\n",
    "plt.show()"
   ],
   "metadata": {
    "collapsed": false
   }
  },
  {
   "cell_type": "code",
   "execution_count": null,
   "outputs": [],
   "source": [
    "#收入分组\n",
    "def income_cut(x):\n",
    "    if x<0:\n",
    "        return 0\n",
    "    elif  0<=x<1200:\n",
    "        return 1\n",
    "    elif  1200<x<=10000:\n",
    "        return 2\n",
    "    elif  10000<x<24000:\n",
    "        return 3\n",
    "    elif  24000<x<40000:\n",
    "        return 4\n",
    "    elif  40000<=x:\n",
    "        return 5\n",
    "\n",
    "\n",
    "Train_data[\"income_cut\"]=Train_data[\"income\"].map(income_cut)\n",
    "Test_data[\"income_cut\"]=Test_data[\"income\"].map(income_cut)"
   ],
   "metadata": {
    "collapsed": false
   }
  },
  {
   "cell_type": "code",
   "execution_count": null,
   "outputs": [],
   "source": [
    "Train_data.shape"
   ],
   "metadata": {
    "collapsed": false
   }
  },
  {
   "cell_type": "code",
   "execution_count": null,
   "outputs": [],
   "source": [
    "Test_data.shape"
   ],
   "metadata": {
    "collapsed": false
   }
  },
  {
   "cell_type": "markdown",
   "source": [
    "本想人工区分数字特征与类别特征，但是特征太多不方便，采用下面的方法"
   ],
   "metadata": {
    "collapsed": false
   }
  },
  {
   "cell_type": "code",
   "execution_count": null,
   "outputs": [],
   "source": [
    "'''\n",
    "绘制以下数据的热度图，\n",
    ".corr()方法表示的是计算dataframe多个指标的相关系数矩阵，默认使用pearson计算方法\n",
    "train[]表示传入热度图的数据，\n",
    "annot（布尔类型），用于控制是否在个字中间标明数字，\n",
    "cmap表示控制热度的渐变色，\n",
    "linewidths表示每个单元格的线的宽度'''\n",
    "sns.heatmap(Train_data[['happiness','Age','inc_ability','gender','status_peer','family_status','health','equity','class','work_exper','health_problem','family_m','house','depression','learn','relax','edu']].corr(),annot=True,cmap='RdYlGn',linewidths=0.2) #data.corr()-->correlation matrix\n",
    "fig=plt.gcf()  #获取当前的图表和子图\n",
    "fig.set_size_inches(15,15)  #设置图像的密集度：设置图像的长和宽\n",
    "plt.show()"
   ],
   "metadata": {
    "collapsed": false
   }
  },
  {
   "cell_type": "code",
   "execution_count": null,
   "outputs": [],
   "source": [
    "'''绘制不同年龄阶段及其工作经验的统计图'''\n",
    "figure,ax = plt.subplots(1,1,figsize=(14,6))\n",
    "sns.countplot('Age',hue='work_exper',ax = ax, data=Train_data)\n",
    "plt.show()"
   ],
   "metadata": {
    "collapsed": false
   }
  },
  {
   "cell_type": "code",
   "execution_count": null,
   "outputs": [],
   "source": [
    "'''\n",
    "最后选择的特征为Age年龄,inc_ability收入是否合理,gender性别,status_peer与同龄人相比的收入情况,work_exper工作经历及情况,family_status家庭年收入情况,health身体健康状况,equity认为社会是否公平,class认为应该处于的社会阶层,health_problem影响健康的程度,family_m家庭人数,house拥有房产数量,depression压力沮丧程度,learn是否学习充电,relax休闲放松,edu教育程度\n",
    "'''\n",
    "features=['Age','inc_ability','gender','status_peer','work_exper','family_status','health','equity','class','health_problem','family_m','house','depression','learn','relax','edu']"
   ],
   "metadata": {
    "collapsed": false
   }
  },
  {
   "cell_type": "code",
   "execution_count": null,
   "outputs": [],
   "source": [
    "'''\n",
    "设置训练模型参数，y_train为模型输出的标签项，X_train为模型输入，X_test为测试集数据,使用xgboost 建模\n",
    "'''\n",
    "y_train = Train_data['happiness']\n",
    "X_train = Train_data[features]\n",
    "X_test = Test_data[features]"
   ],
   "metadata": {
    "collapsed": false
   }
  },
  {
   "cell_type": "code",
   "execution_count": null,
   "outputs": [],
   "source": [
    "from sklearn.metrics import mean_squared_error\n",
    "from xgboost.sklearn import XGBRegressor\n",
    "model = XGBRegressor()\n",
    "model.fit(X_train, y_train)"
   ],
   "metadata": {
    "collapsed": false
   }
  },
  {
   "cell_type": "code",
   "execution_count": null,
   "outputs": [],
   "source": [
    "train_predict = model.predict(X_train)"
   ],
   "metadata": {
    "collapsed": false
   }
  },
  {
   "cell_type": "code",
   "execution_count": null,
   "outputs": [],
   "source": [
    "train_mse = mean_squared_error(y_train, train_predict)\n",
    "train_mse"
   ],
   "metadata": {
    "collapsed": false
   }
  },
  {
   "cell_type": "markdown",
   "source": [
    "简单建模后，效果一般，进行调参，用交叉验证的方式"
   ],
   "metadata": {
    "collapsed": false
   }
  },
  {
   "cell_type": "code",
   "execution_count": null,
   "outputs": [],
   "source": [
    "model_2 = XGBRegressor(base_score=0.5, booster='gbtree', n_estimators=400,colsample_bylevel=0.1,max_depth=5,\n",
    "      gamma=0.11, learning_rate=0.069, max_delta_step=0,eta=0.005,\n",
    "        colsample_bytree=0.8, objective='reg:linear', eval_metric= 'rmse', silent=True, nthread=8)"
   ],
   "metadata": {
    "collapsed": false
   }
  },
  {
   "cell_type": "code",
   "execution_count": null,
   "outputs": [],
   "source": [
    "from sklearn.model_selection import cross_val_score\n",
    "\n",
    "scores = cross_val_score(model_2, X_train, y_train,\n",
    "                         scoring=\"neg_mean_squared_error\", cv=5)"
   ],
   "metadata": {
    "collapsed": false
   }
  },
  {
   "cell_type": "code",
   "execution_count": null,
   "outputs": [],
   "source": [
    "j = 1\n",
    "for i in scores:\n",
    "    print('第{0}次mse为{1}'.format(j, -i))\n",
    "    j += 1"
   ],
   "metadata": {
    "collapsed": false
   }
  },
  {
   "cell_type": "code",
   "execution_count": null,
   "outputs": [],
   "source": [
    "model_2.fit(X_train, y_train)\n",
    "X_predict = model_2.predict(X_test)\n",
    "#数据导出\n",
    "test = pd.read_csv('happiness_test_abbr.csv')\n",
    "test['happiness'] = X_predict\n",
    "submit = test[['id','happiness']]\n",
    "submit.to_csv(\"submit20230625.csv\",index=False)"
   ],
   "metadata": {
    "collapsed": false
   }
  }
 ],
 "metadata": {
  "kernelspec": {
   "display_name": "Python 3",
   "language": "python",
   "name": "python3"
  },
  "language_info": {
   "codemirror_mode": {
    "name": "ipython",
    "version": 2
   },
   "file_extension": ".py",
   "mimetype": "text/x-python",
   "name": "python",
   "nbconvert_exporter": "python",
   "pygments_lexer": "ipython2",
   "version": "2.7.6"
  }
 },
 "nbformat": 4,
 "nbformat_minor": 0
}
